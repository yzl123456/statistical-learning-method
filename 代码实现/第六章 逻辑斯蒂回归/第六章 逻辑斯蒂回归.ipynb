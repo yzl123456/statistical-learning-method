{
 "cells": [
  {
   "cell_type": "markdown",
   "metadata": {},
   "source": [
    "# 第六章 逻辑斯蒂回归\n",
    "\n",
    "通常，Logistic函数的定义如下： \n",
    "\\begin{equation}\n",
    "P(x) = \\frac{1}{1+exp(-x)}\n",
    "\\end{equation}\n",
    "\n",
    "其中$x \\in \\mathbb{R},P(x) \\in [0,1]$\n",
    "\n",
    "\\begin{equation}\n",
    "P(-x) = \\frac{1}{1+exp(x)} = \\frac{1}{1+\\frac{1}{exp(-x)}} \\nonumber \\\\\n",
    "=\\frac{exp(-x)}{1+exp(-x)} = 1-\\frac{1}{1+exp(-x)} = 1-P(x)\n",
    "\\end{equation}\n",
    "\n",
    "所以有以下性质：(之前我一直奇怪为啥wx前面少了个负号，后来才知道是化简过来的。。。)\n",
    "\\begin{equation}\n",
    "P(y=1|w,x) = \\frac{1}{1+exp(-w^Tx)} = \\frac{exp(w^Tx)}{1+exp(w^Tx)} \\\\\n",
    "P(y=0|w,x) = 1-\\frac{1}{1+exp(-w^Tx)} = \\frac{1}{1+exp(w^Tx)} \n",
    "\\end{equation}\n",
    "\n",
    "定义“几率”logit(p) = p/(1-p)\n",
    "\n",
    "则对数几率 = log(p/(1-p))=wx 【后面会用到】\n",
    "\n",
    "![avatar](img/p1.jpg)"
   ]
  },
  {
   "cell_type": "code",
   "execution_count": 3,
   "metadata": {},
   "outputs": [],
   "source": [
    "import numpy as np\n",
    "import pandas as pd\n",
    "import matplotlib.pyplot as plt\n",
    "%matplotlib inline\n",
    "\n",
    "from sklearn.datasets import load_iris"
   ]
  },
  {
   "cell_type": "code",
   "execution_count": 4,
   "metadata": {},
   "outputs": [],
   "source": [
    "# 创建数据\n",
    "def create_data():\n",
    "    iris = load_iris()\n",
    "    df = pd.DataFrame(iris.data, columns=iris.feature_names)\n",
    "    df['label'] = iris.target\n",
    "    df.columns = ['sepal length', 'sepal width', 'petal length', 'petal width', 'label']\n",
    "    data = np.array(df.iloc[:100, [0,1,-1]])\n",
    "    return data[:,:2], data[:,-1]\n",
    "X,Y = create_data()\n"
   ]
  },
  {
   "cell_type": "code",
   "execution_count": 5,
   "metadata": {},
   "outputs": [],
   "source": [
    "class logisticRegression:\n",
    "    \n",
    "    def sigmoid(self,x):\n",
    "        return 1/(1+np.exp(-x))\n",
    "    \n",
    "    def fit(self,X,Y,learning_rate = 0.0001):\n",
    "        m = len(X)  #样本数量\n",
    "        X = np.insert(X,0,1,axis=1)  #将wx+b里的b也纳入到w里面中来，添加一个x0=1,即w0+w1*x1+w2*x2 = w0*x0+w1*x1+w2*x2\n",
    "        self.w = np.zeros(len(X[0]))  #初始化权重，为feature的数量\n",
    "        for iter_time in range(500):  #进行几次epoch，调大epoch次数（比如5000），可以看到分离效果会更好\n",
    "            for i in range(m):  #遍历每个样本\n",
    "                gradient = X[i] * (Y[i]-self.sigmoid(np.dot(self.w,X[i])))  #梯度，注意这里wx算出来应该是一个数而不是一个向量，梯度推导可见上\n",
    "                self.w += gradient  #使用梯度上升法最大化对数似然函数\n",
    "        print(\"权重向量：\",self.w)"
   ]
  },
  {
   "cell_type": "code",
   "execution_count": 6,
   "metadata": {},
   "outputs": [
    {
     "name": "stdout",
     "output_type": "stream",
     "text": [
      "权重向量： [-91.56507325  63.10486613 -79.89033281]\n"
     ]
    }
   ],
   "source": [
    "clf = logisticRegression()\n",
    "clf.fit(X,Y)"
   ]
  },
  {
   "cell_type": "code",
   "execution_count": 7,
   "metadata": {},
   "outputs": [
    {
     "data": {
      "text/plain": [
       "<matplotlib.legend.Legend at 0x7efdec83ad68>"
      ]
     },
     "execution_count": 7,
     "metadata": {},
     "output_type": "execute_result"
    },
    {
     "data": {
      "image/png": "[encoded data removed]",
      "text/plain": [
       "<Figure size 432x288 with 1 Axes>"
      ]
     },
     "metadata": {
      "needs_background": "light"
     },
     "output_type": "display_data"
    }
   ],
   "source": [
    "x_ponits = np.arange(4, 8)\n",
    "# 绘制划分曲线为 w0+w1*x1+w2*x2=0,这里x1为x轴，x2为y轴，w0为b，可转化成截距式方程 x2 = (-w0-w1*x1)/w2\n",
    "y_ = -(clf.w[1]*x_ponits + clf.w[0])/clf.w[2]\n",
    "plt.plot(x_ponits, y_)\n",
    "\n",
    "# 绘制样本点\n",
    "plt.scatter(X[:50,0],X[:50,1], label='0')\n",
    "plt.scatter(X[50:,0],X[50:,1], label='1')\n",
    "plt.legend()"
   ]
  }
 ],
 "metadata": {
  "kernelspec": {
   "display_name": "Python 3",
   "language": "python",
   "name": "python3"
  },
  "language_info": {
   "codemirror_mode": {
    "name": "ipython",
    "version": 3
   },
   "file_extension": ".py",
   "mimetype": "text/x-python",
   "name": "python",
   "nbconvert_exporter": "python",
   "pygments_lexer": "ipython3",
   "version": "3.6.8"
  }
 },
 "nbformat": 4,
 "nbformat_minor": 4
}
