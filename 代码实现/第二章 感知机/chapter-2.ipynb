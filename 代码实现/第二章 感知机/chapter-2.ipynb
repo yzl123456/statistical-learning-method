{
 "cells": [
  {
   "cell_type": "markdown",
   "metadata": {},
   "source": [
    "# 第二章 感知机"
   ]
  },
  {
   "cell_type": "markdown",
   "metadata": {},
   "source": [
    "二分类模型\n",
    "\n",
    "$f(x) = sign(w*x + b)$\n",
    "\n",
    "损失函数 $L(w, b) = -\\Sigma{y_{i}(w*x_{i} + b)}$\n",
    "\n",
    "一般把正例归为1,负例归为-1,yi为数据的真实标签\n",
    "\n",
    "我们知道每一个误分类点都满足-yi(w*x+b)>0\n",
    "\n",
    "因为当我们数据点正确值为+1的时候，你误分类了，那么你判断为-1，则算出来(w*x+b)<0\n",
    "\n",
    "当数据点是正确值为-1的时候，你误分类了，那么你判断为+1，则算出来(w*x+b>0),所以满足-yi(w*x+b)>0\n",
    "\n",
    "所以我们利用随机梯度下降法最小化损失函数,即可保证误分类的点越少\n",
    "\n",
    "#### 算法\n",
    "\n",
    "随机梯度下降法,来最小化损失函数\n",
    "\n",
    "其中,\n",
    "\n",
    "$$\\frac{\\partial L}{\\partial w} = -y_{i}x_{i}$$\n",
    "\n",
    "$$\\frac{\\partial L}{\\partial b} = -y_{i}$$\n",
    "\n",
    "随机抽取一个误分类点使其梯度下降,学习率定义为\\eta\n",
    "\n",
    "随机梯度下降算法在更新梯度时,是沿着负梯度方向进行更新的:\n",
    "\n",
    "$w = w + \\eta y_{i}x_{i}$\n",
    "\n",
    "$b = b + \\eta y_{i}$\n",
    "\n",
    "当实例点被误分类，即位于分离超平面的错误侧，则调整w, b的值，使分离超平面向该误分类点的一侧移动，直至误分类点被正确分类"
   ]
  },
  {
   "cell_type": "markdown",
   "metadata": {},
   "source": [
    "以iris数据集中两个分类的数据和【sepal length,sepal width】作为特征"
   ]
  },
  {
   "cell_type": "code",
   "execution_count": 6,
   "metadata": {},
   "outputs": [],
   "source": [
    "import pandas as pd\n",
    "import numpy as np\n",
    "from sklearn.datasets import load_iris\n",
    "import matplotlib.pyplot as plt\n",
    "%matplotlib inline"
   ]
  },
  {
   "cell_type": "code",
   "execution_count": 7,
   "metadata": {},
   "outputs": [],
   "source": [
    "# load data\n",
    "iris = load_iris()\n",
    "df = pd.DataFrame(iris.data,columns = iris.feature_names)\n",
    "df['label'] = iris.target"
   ]
  },
  {
   "cell_type": "code",
   "execution_count": 8,
   "metadata": {},
   "outputs": [
    {
     "data": {
      "text/html": [
       "<div>\n",
       "<style scoped>\n",
       "    .dataframe tbody tr th:only-of-type {\n",
       "        vertical-align: middle;\n",
       "    }\n",
       "\n",
       "    .dataframe tbody tr th {\n",
       "        vertical-align: top;\n",
       "    }\n",
       "\n",
       "    .dataframe thead th {\n",
       "        text-align: right;\n",
       "    }\n",
       "</style>\n",
       "<table border=\"1\" class=\"dataframe\">\n",
       "  <thead>\n",
       "    <tr style=\"text-align: right;\">\n",
       "      <th></th>\n",
       "      <th>sepal length (cm)</th>\n",
       "      <th>sepal width (cm)</th>\n",
       "      <th>petal length (cm)</th>\n",
       "      <th>petal width (cm)</th>\n",
       "      <th>label</th>\n",
       "    </tr>\n",
       "  </thead>\n",
       "  <tbody>\n",
       "    <tr>\n",
       "      <th>0</th>\n",
       "      <td>5.1</td>\n",
       "      <td>3.5</td>\n",
       "      <td>1.4</td>\n",
       "      <td>0.2</td>\n",
       "      <td>0</td>\n",
       "    </tr>\n",
       "    <tr>\n",
       "      <th>1</th>\n",
       "      <td>4.9</td>\n",
       "      <td>3.0</td>\n",
       "      <td>1.4</td>\n",
       "      <td>0.2</td>\n",
       "      <td>0</td>\n",
       "    </tr>\n",
       "    <tr>\n",
       "      <th>2</th>\n",
       "      <td>4.7</td>\n",
       "      <td>3.2</td>\n",
       "      <td>1.3</td>\n",
       "      <td>0.2</td>\n",
       "      <td>0</td>\n",
       "    </tr>\n",
       "    <tr>\n",
       "      <th>3</th>\n",
       "      <td>4.6</td>\n",
       "      <td>3.1</td>\n",
       "      <td>1.5</td>\n",
       "      <td>0.2</td>\n",
       "      <td>0</td>\n",
       "    </tr>\n",
       "    <tr>\n",
       "      <th>4</th>\n",
       "      <td>5.0</td>\n",
       "      <td>3.6</td>\n",
       "      <td>1.4</td>\n",
       "      <td>0.2</td>\n",
       "      <td>0</td>\n",
       "    </tr>\n",
       "  </tbody>\n",
       "</table>\n",
       "</div>"
      ],
      "text/plain": [
       "   sepal length (cm)  sepal width (cm)  petal length (cm)  petal width (cm)  \\\n",
       "0                5.1               3.5                1.4               0.2   \n",
       "1                4.9               3.0                1.4               0.2   \n",
       "2                4.7               3.2                1.3               0.2   \n",
       "3                4.6               3.1                1.5               0.2   \n",
       "4                5.0               3.6                1.4               0.2   \n",
       "\n",
       "   label  \n",
       "0      0  \n",
       "1      0  \n",
       "2      0  \n",
       "3      0  \n",
       "4      0  "
      ]
     },
     "execution_count": 8,
     "metadata": {},
     "output_type": "execute_result"
    }
   ],
   "source": [
    "df.head()"
   ]
  },
  {
   "cell_type": "code",
   "execution_count": 9,
   "metadata": {},
   "outputs": [
    {
     "data": {
      "text/plain": [
       "2    50\n",
       "1    50\n",
       "0    50\n",
       "Name: label, dtype: int64"
      ]
     },
     "execution_count": 9,
     "metadata": {},
     "output_type": "execute_result"
    }
   ],
   "source": [
    "#去掉后面的(cm)，方便之后通过列的索引取值\n",
    "df.columns = ['sepal length','sepal width','petal length','petal width','label']\n",
    "df.label.value_counts()"
   ]
  },
  {
   "cell_type": "code",
   "execution_count": 10,
   "metadata": {},
   "outputs": [
    {
     "data": {
      "text/plain": [
       "<matplotlib.legend.Legend at 0x7f2ad27ca5c0>"
      ]
     },
     "execution_count": 10,
     "metadata": {},
     "output_type": "execute_result"
    },
    {
     "data": {
      "image/png": "[encoded data removed]",
      "text/plain": [
       "<Figure size 432x288 with 1 Axes>"
      ]
     },
     "metadata": {
      "needs_background": "light"
     },
     "output_type": "display_data"
    }
   ],
   "source": [
    "#先overview一下2中label的花的feature分布\n",
    "#现在是用感知机作二分类，所以只挑了2个label的\n",
    "plt.scatter(df[:50]['sepal length'],df[:50]['sepal width'],label = '0')\n",
    "plt.scatter(df[50:100]['sepal length'],df[50:100]['sepal width'],label = '1')\n",
    "plt.xlabel('sepal length')\n",
    "plt.ylabel('sepal width')\n",
    "plt.legend()"
   ]
  },
  {
   "cell_type": "code",
   "execution_count": 11,
   "metadata": {},
   "outputs": [],
   "source": [
    "# 取前100个，即label为0和1的用来做二分类，取了第一列和第二列的feature，二维方便画图，同时取了label这一列\n",
    "data = np.array(df.iloc[:100,[0,1,-1]])\n",
    "# X 为训练数据，不包含label，只包含feature，y为label数据\n",
    "X, y = data[:,:-1],data[:,-1]\n",
    "# 感知机将正例和反例分别分为1和-1，所以把标签为0和1的分别分成1和-1\n",
    "y = np.array([1 if i==1 else -1 for i in y])"
   ]
  },
  {
   "cell_type": "code",
   "execution_count": 12,
   "metadata": {},
   "outputs": [
    {
     "data": {
      "text/plain": [
       "array([5.1, 3.5, 0. ])"
      ]
     },
     "execution_count": 12,
     "metadata": {},
     "output_type": "execute_result"
    }
   ],
   "source": [
    "data[0]"
   ]
  },
  {
   "cell_type": "markdown",
   "metadata": {},
   "source": [
    "### 感知机的实现"
   ]
  },
  {
   "cell_type": "code",
   "execution_count": 13,
   "metadata": {},
   "outputs": [],
   "source": [
    "#感知机的应用场景为数据线性可分，二分类数据的场景\n",
    "#此处为一元一次线性方程\n",
    "class Model:\n",
    "    def __init__(self):\n",
    "        self.w = np.ones(len(data[0])-1,dtype=np.float32)\n",
    "        self.b = 0\n",
    "        self.learning_rate = 0.1\n",
    "        \n",
    "    def sign(self,x,w,b):\n",
    "        y = np.dot(x,w)+b\n",
    "        return y\n",
    "    \n",
    "    #随机梯度下降\n",
    "    def fit(self,X_train,y_train):\n",
    "        #is_wrong 标记是否有被错误分类的样本\n",
    "        is_wrong = False\n",
    "        while not is_wrong:\n",
    "            #统计错误分类的个数\n",
    "            wrong_count = 0\n",
    "            for d in range(len(X_train)):\n",
    "                #取出每一个样本\n",
    "                X = X_train[d]\n",
    "                y = y_train[d]\n",
    "                # y_ 为预测值，y为实际的标签\n",
    "                y_ = self.sign(X,self.w,self.b)\n",
    "                #如果被错误分类了,沿着负梯度方向更新参数w,b\n",
    "                if y * y_<=0:\n",
    "                    self.w = self.w+self.learning_rate*np.dot(y,X)\n",
    "                    self.b = self.b+self.learning_rate*y\n",
    "                    wrong_count += 1\n",
    "            if wrong_count == 0:\n",
    "                is_wrong = True\n",
    "        return 'Perceptron Model is finished!'\n",
    "    \n",
    "    def score(self):\n",
    "        pass\n",
    "                    \n",
    "        "
   ]
  },
  {
   "cell_type": "code",
   "execution_count": 14,
   "metadata": {},
   "outputs": [
    {
     "data": {
      "text/plain": [
       "'Perceptron Model is finished!'"
      ]
     },
     "execution_count": 14,
     "metadata": {},
     "output_type": "execute_result"
    }
   ],
   "source": [
    "perceptron = Model()\n",
    "perceptron.fit(X,y)"
   ]
  },
  {
   "cell_type": "code",
   "execution_count": 15,
   "metadata": {},
   "outputs": [
    {
     "data": {
      "text/plain": [
       "<matplotlib.legend.Legend at 0x7f2ad187f9e8>"
      ]
     },
     "execution_count": 15,
     "metadata": {},
     "output_type": "execute_result"
    },
    {
     "data": {
      "image/png": "[encoded data removed]",
      "text/plain": [
       "<Figure size 432x288 with 1 Axes>"
      ]
     },
     "metadata": {
      "needs_background": "light"
     },
     "output_type": "display_data"
    }
   ],
   "source": [
    "#线性划分x坐标轴【4,7】为10等分\n",
    "x_points = np.linspace(4,7,10)\n",
    "# 画出分割线\n",
    "'''\n",
    "y_ = w1*x1 + w2*x2 + b\n",
    "要画出该直线,将横轴看成x1,纵轴看成x2,当 w1*x1 + w2*x2 + b = 0 即为该直线\n",
    "所以 x2 = -(w1*x1+b)/(w2)\n",
    "即下面的y_的表达式\n",
    "'''\n",
    "y_ = -(perceptron.w[0]*x_points + perceptron.b)/perceptron.w[1]\n",
    "plt.plot(x_points,y_)\n",
    "\n",
    "#画出样本的分布\n",
    "#plot里参数 第一个为横轴，第二个为纵轴\n",
    "plt.plot(data[:50,0],data[:50,1],'bo',color='blue',label='0')\n",
    "plt.plot(data[50:100,0],data[50:100,1],'bo',color='orange',label = '1')\n",
    "plt.xlabel('sepal length')\n",
    "plt.ylabel('sepal width')\n",
    "plt.legend()"
   ]
  },
  {
   "cell_type": "code",
   "execution_count": 16,
   "metadata": {},
   "outputs": [
    {
     "data": {
      "text/plain": [
       "array([  7.8, -10. ])"
      ]
     },
     "execution_count": 16,
     "metadata": {},
     "output_type": "execute_result"
    }
   ],
   "source": [
    "perceptron.w"
   ]
  },
  {
   "cell_type": "markdown",
   "metadata": {},
   "source": [
    "### 使用scikit-learn 包里的 感知机"
   ]
  },
  {
   "cell_type": "code",
   "execution_count": 17,
   "metadata": {},
   "outputs": [],
   "source": [
    "from sklearn.linear_model import Perceptron\n",
    "# 在scikit-learn (0.18.1) 版本下，这个库里跑出来的图的结果是比较好的正确的\n",
    "# 在scikit-learn (0.21.2) 版本下,这个库里跑出来的图的结果感觉不太正确....\n",
    "# fit进去的数据集都是一样的，下图为在 (0.21.2)版本下跑出来的结果...\n",
    "# 好了，今天有次在服务器上跑也正常了，我也不知道为啥.........."
   ]
  },
  {
   "cell_type": "code",
   "execution_count": 18,
   "metadata": {},
   "outputs": [
    {
     "name": "stderr",
     "output_type": "stream",
     "text": [
      "/home/zelin/mytorch/torch/lib64/python3.6/site-packages/sklearn/linear_model/stochastic_gradient.py:183: FutureWarning: max_iter and tol parameters have been added in Perceptron in 0.19. If max_iter is set but tol is left unset, the default value for tol in 0.19 and 0.20 will be None (which is equivalent to -infinity, so it has no effect) but will change in 0.21 to 1e-3. Specify tol to silence this warning.\n",
      "  FutureWarning)\n"
     ]
    },
    {
     "data": {
      "text/plain": [
       "Perceptron(alpha=0.0001, class_weight=None, early_stopping=False, eta0=1.0,\n",
       "      fit_intercept=False, max_iter=1000, n_iter=None, n_iter_no_change=5,\n",
       "      n_jobs=None, penalty=None, random_state=0, shuffle=False, tol=None,\n",
       "      validation_fraction=0.1, verbose=0, warm_start=False)"
      ]
     },
     "execution_count": 18,
     "metadata": {},
     "output_type": "execute_result"
    }
   ],
   "source": [
    "clf = Perceptron(fit_intercept=False,max_iter=1000,shuffle=False)\n",
    "clf.fit(X,y)\n",
    "clf"
   ]
  },
  {
   "cell_type": "code",
   "execution_count": 19,
   "metadata": {},
   "outputs": [
    {
     "name": "stdout",
     "output_type": "stream",
     "text": [
      "[[  74.6 -127.2]]\n"
     ]
    }
   ],
   "source": [
    "# 设置feature的权重\n",
    "print(clf.coef_)\n",
    "# clf.coef_ = [[74.6,-127.2]]"
   ]
  },
  {
   "cell_type": "code",
   "execution_count": 20,
   "metadata": {},
   "outputs": [
    {
     "name": "stdout",
     "output_type": "stream",
     "text": [
      "[0.]\n"
     ]
    }
   ],
   "source": [
    "# 截距\n",
    "print(clf.intercept_)"
   ]
  },
  {
   "cell_type": "code",
   "execution_count": 22,
   "metadata": {},
   "outputs": [
    {
     "data": {
      "text/plain": [
       "<matplotlib.legend.Legend at 0x7f2a98441748>"
      ]
     },
     "execution_count": 22,
     "metadata": {},
     "output_type": "execute_result"
    },
    {
     "data": {
      "image/png": "[encoded data removed]",
      "text/plain": [
       "<Figure size 432x288 with 1 Axes>"
      ]
     },
     "metadata": {
      "needs_background": "light"
     },
     "output_type": "display_data"
    }
   ],
   "source": [
    "x_points = np.arange(4,8)\n",
    "y_ = -(clf.coef_[0][0]*x_points + clf.intercept_)/clf.coef_[0][1]\n",
    "plt.plot(x_points,y_)\n",
    "\n",
    "plt.plot(data[:50,0],data[:50,1],'bo',color = 'blue',label = '0')\n",
    "plt.plot(data[50:100,0],data[50:100,1],'bo',color = 'orange',label = '1')\n",
    "plt.xlabel('sepal length')\n",
    "plt.ylabel('sepal width')\n",
    "plt.legend()"
   ]
  },
  {
   "cell_type": "code",
   "execution_count": null,
   "metadata": {},
   "outputs": [],
   "source": []
  }
 ],
 "metadata": {
  "kernelspec": {
   "display_name": "Python 3",
   "language": "python",
   "name": "python3"
  },
  "language_info": {
   "codemirror_mode": {
    "name": "ipython",
    "version": 3
   },
   "file_extension": ".py",
   "mimetype": "text/x-python",
   "name": "python",
   "nbconvert_exporter": "python",
   "pygments_lexer": "ipython3",
   "version": "3.6.8"
  }
 },
 "nbformat": 4,
 "nbformat_minor": 4
}
